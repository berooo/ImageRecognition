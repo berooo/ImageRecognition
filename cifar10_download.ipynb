{
 "cells": [
  {
   "cell_type": "code",
   "execution_count": 3,
   "metadata": {
    "collapsed": false
   },
   "outputs": [
    {
     "name": "stdout",
     "output_type": "stream",
     "text": [
      ">> Downloading cifar-10-binary.tar.gz 100.0%\n",
      "Successfully downloaded cifar-10-binary.tar.gz 170052171 bytes.\n"
     ]
    }
   ],
   "source": [
    "import cifar10\n",
    "import tensorflow as tf\n",
    "\n",
    "#tf.app.flags.FLAGS是Tensorflow内部的一个全局变量存储器，同时可以用于命令行参数的处理\n",
    "FLAGS=tf.app.flags.FLAGS\n",
    "#在cifar10模块中预先定义了f.app.flags.FLAGS.data_dir为CIFAR-10的数据路径\n",
    "#把这个路径改为cifar10_data\n",
    "FLAGS.data_dir='cifar10_data/'\n",
    "tf.app.flags.DEFINE_string('f', '', 'kernel')\n",
    "\n",
    "#如果不存在数据文件，就进行下载\n",
    "cifar10.maybe_download_and_extract()"
   ]
  },
  {
   "cell_type": "code",
   "execution_count": null,
   "metadata": {
    "collapsed": true
   },
   "outputs": [],
   "source": []
  }
 ],
 "metadata": {
  "anaconda-cloud": {},
  "kernelspec": {
   "display_name": "Python [default]",
   "language": "python",
   "name": "python3"
  },
  "language_info": {
   "codemirror_mode": {
    "name": "ipython",
    "version": 3
   },
   "file_extension": ".py",
   "mimetype": "text/x-python",
   "name": "python",
   "nbconvert_exporter": "python",
   "pygments_lexer": "ipython3",
   "version": "3.5.2"
  }
 },
 "nbformat": 4,
 "nbformat_minor": 1
}
