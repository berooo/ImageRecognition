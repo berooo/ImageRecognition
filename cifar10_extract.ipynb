{
 "cells": [
  {
   "cell_type": "code",
   "execution_count": 9,
   "metadata": {
    "collapsed": true
   },
   "outputs": [],
   "source": [
    "import tensorflow as tf\n",
    "import os\n",
    "import scipy.misc\n",
    "import cifar10_input"
   ]
  },
  {
   "cell_type": "code",
   "execution_count": 10,
   "metadata": {
    "collapsed": false
   },
   "outputs": [],
   "source": [
    "def inputs_origin(data_dir):\n",
    "    #filename一共5个，从data_batch_1.bin到data_batch_5.bin\n",
    "    #读入的都是训练图像\n",
    "    filenames=[os.path.join(data_dir,'data_batch_%d.bin'%i) for i in range(1,6)]\n",
    "    #判断文件是否存在\n",
    "    for f in filenames:\n",
    "        if not tf.gfile.Exists(f):\n",
    "            raise ValueError('Failed to find file:'+f)\n",
    "    #将文件名的list包装成Tensorflow中的queue形式\n",
    "    filename_queue=tf.train.string_input_producer(filenames)\n",
    "    #cifar10_input.read_cifar10是事先写好的从queue中读取文件的函数\n",
    "    read_input=cifar10_input.read_cifar10(filename_queue)\n",
    "    #将图片转换为实数形式\n",
    "    reshaped_image=tf.cast(read_input.uint8image,tf.float32)\n",
    "    #返回的reshaped_image是一张图片的tensor\n",
    "    #应当这样理解reshaped_image:每次使用sess.run(reshaped_image)，就会取出一张图片\n",
    "    return reshaped_image "
   ]
  },
  {
   "cell_type": "code",
   "execution_count": 11,
   "metadata": {
    "collapsed": false
   },
   "outputs": [
    {
     "name": "stdout",
     "output_type": "stream",
     "text": [
      "WARNING:tensorflow:From <ipython-input-10-e2fe5ee5ecd7>:10: string_input_producer (from tensorflow.python.training.input) is deprecated and will be removed in a future version.\n",
      "Instructions for updating:\n",
      "Queue-based input pipelines have been replaced by `tf.data`. Use `tf.data.Dataset.from_tensor_slices(string_tensor).shuffle(tf.shape(input_tensor, out_type=tf.int64)[0]).repeat(num_epochs)`. If `shuffle=False`, omit the `.shuffle(...)`.\n",
      "WARNING:tensorflow:From C:\\Users\\石宝荣\\AppData\\Roaming\\Python\\Python35\\site-packages\\tensorflow\\python\\training\\input.py:276: input_producer (from tensorflow.python.training.input) is deprecated and will be removed in a future version.\n",
      "Instructions for updating:\n",
      "Queue-based input pipelines have been replaced by `tf.data`. Use `tf.data.Dataset.from_tensor_slices(input_tensor).shuffle(tf.shape(input_tensor, out_type=tf.int64)[0]).repeat(num_epochs)`. If `shuffle=False`, omit the `.shuffle(...)`.\n",
      "WARNING:tensorflow:From C:\\Users\\石宝荣\\AppData\\Roaming\\Python\\Python35\\site-packages\\tensorflow\\python\\training\\input.py:188: limit_epochs (from tensorflow.python.training.input) is deprecated and will be removed in a future version.\n",
      "Instructions for updating:\n",
      "Queue-based input pipelines have been replaced by `tf.data`. Use `tf.data.Dataset.from_tensors(tensor).repeat(num_epochs)`.\n",
      "WARNING:tensorflow:From C:\\Users\\石宝荣\\AppData\\Roaming\\Python\\Python35\\site-packages\\tensorflow\\python\\training\\input.py:197: QueueRunner.__init__ (from tensorflow.python.training.queue_runner_impl) is deprecated and will be removed in a future version.\n",
      "Instructions for updating:\n",
      "To construct input pipelines, use the `tf.data` module.\n",
      "WARNING:tensorflow:From C:\\Users\\石宝荣\\AppData\\Roaming\\Python\\Python35\\site-packages\\tensorflow\\python\\training\\input.py:197: add_queue_runner (from tensorflow.python.training.queue_runner_impl) is deprecated and will be removed in a future version.\n",
      "Instructions for updating:\n",
      "To construct input pipelines, use the `tf.data` module.\n",
      "WARNING:tensorflow:From C:\\Users\\石宝荣\\Documents\\ImageRecognition\\cifar10_input.py:79: FixedLengthRecordReader.__init__ (from tensorflow.python.ops.io_ops) is deprecated and will be removed in a future version.\n",
      "Instructions for updating:\n",
      "Queue-based input pipelines have been replaced by `tf.data`. Use `tf.data.FixedLengthRecordDataset`.\n",
      "WARNING:tensorflow:From <ipython-input-11-a2e35bfa3bf5>:10: start_queue_runners (from tensorflow.python.training.queue_runner_impl) is deprecated and will be removed in a future version.\n",
      "Instructions for updating:\n",
      "To construct input pipelines, use the `tf.data` module.\n"
     ]
    },
    {
     "name": "stderr",
     "output_type": "stream",
     "text": [
      "C:\\新建文件夹\\lib\\site-packages\\ipykernel\\__main__.py:21: DeprecationWarning: `toimage` is deprecated!\n",
      "`toimage` is deprecated in SciPy 1.0.0, and will be removed in 1.2.0.\n",
      "Use Pillow's ``Image.fromarray`` directly instead.\n"
     ]
    },
    {
     "name": "stdout",
     "output_type": "stream",
     "text": [
      "ERROR:tensorflow:Exception in QueueRunner: Enqueue operation was cancelled\n",
      "\t [[{{node input_producer/input_producer_EnqueueMany}} = QueueEnqueueManyV2[Tcomponents=[DT_STRING], timeout_ms=-1, _device=\"/job:localhost/replica:0/task:0/device:CPU:0\"](input_producer, input_producer/RandomShuffle)]]\n"
     ]
    },
    {
     "name": "stderr",
     "output_type": "stream",
     "text": [
      "Exception in thread QueueRunnerThread-input_producer-input_producer/input_producer_EnqueueMany:\n",
      "Traceback (most recent call last):\n",
      "  File \"C:\\新建文件夹\\lib\\threading.py\", line 914, in _bootstrap_inner\n",
      "    self.run()\n",
      "  File \"C:\\新建文件夹\\lib\\threading.py\", line 862, in run\n",
      "    self._target(*self._args, **self._kwargs)\n",
      "  File \"C:\\Users\\石宝荣\\AppData\\Roaming\\Python\\Python35\\site-packages\\tensorflow\\python\\training\\queue_runner_impl.py\", line 257, in _run\n",
      "    enqueue_callable()\n",
      "  File \"C:\\Users\\石宝荣\\AppData\\Roaming\\Python\\Python35\\site-packages\\tensorflow\\python\\client\\session.py\", line 1257, in _single_operation_run\n",
      "    self._call_tf_sessionrun(None, {}, [], target_list, None)\n",
      "  File \"C:\\Users\\石宝荣\\AppData\\Roaming\\Python\\Python35\\site-packages\\tensorflow\\python\\client\\session.py\", line 1407, in _call_tf_sessionrun\n",
      "    run_metadata)\n",
      "tensorflow.python.framework.errors_impl.CancelledError: Enqueue operation was cancelled\n",
      "\t [[{{node input_producer/input_producer_EnqueueMany}} = QueueEnqueueManyV2[Tcomponents=[DT_STRING], timeout_ms=-1, _device=\"/job:localhost/replica:0/task:0/device:CPU:0\"](input_producer, input_producer/RandomShuffle)]]\n",
      "\n"
     ]
    }
   ],
   "source": [
    "if __name__=='__main__':\n",
    "    #创建一个会话sess\n",
    "    with tf.Session() as sess:\n",
    "        #调用inputs_origin。cifar10_data/cifar-10-batches-bin是下载数据的文件夹位置\n",
    "        reshaped_image=inputs_origin('cifar10_data/cifar-10-batches-bin')\n",
    "        #这一步start-queue-runner很重要\n",
    "        #之前有filename_queue=tf.train.string_input_producer(filenames)\n",
    "        #这个queue必须通过start_queue_runners才能启动\n",
    "        #若缺少start_queue_runners，程序将不能执行\n",
    "        threads=tf.train.start_queue_runners(sess=sess)\n",
    "        #对变量初始化\n",
    "        sess.run(tf.global_variables_initializer())\n",
    "        #创建文件夹cifar10_data/raw/\n",
    "        if not os.path.exists('cifar10_data/raw/'):\n",
    "            os.makedirs('cifar10_data/raw/')\n",
    "        #保存30张图片\n",
    "        for i in range(30):\n",
    "            #每次sess.run(reshaped_image)，都会取出一张图片\n",
    "            image_array=sess.run(reshaped_image)\n",
    "            #将图片保存\n",
    "            scipy.misc.toimage(image_array).save('cifar10_data/raw/%d.jpg'%i)"
   ]
  }
 ],
 "metadata": {
  "kernelspec": {
   "display_name": "Python [default]",
   "language": "python",
   "name": "python3"
  },
  "language_info": {
   "codemirror_mode": {
    "name": "ipython",
    "version": 3
   },
   "file_extension": ".py",
   "mimetype": "text/x-python",
   "name": "python",
   "nbconvert_exporter": "python",
   "pygments_lexer": "ipython3",
   "version": "3.5.2"
  }
 },
 "nbformat": 4,
 "nbformat_minor": 1
}
